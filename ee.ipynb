{
 "cells": [
  {
   "cell_type": "code",
   "execution_count": 33,
   "metadata": {},
   "outputs": [],
   "source": [
    "import pandas as pd\n",
    "import numpy as np\n",
    "import matplotlib.pyplot as plt\n",
    "from sklearn.linear_model import LinearRegression\n",
    "from math import e\n",
    "from factors import *\n",
    "import numpy as np"
   ]
  },
  {
   "cell_type": "markdown",
   "metadata": {},
   "source": [
    "Q1"
   ]
  },
  {
   "cell_type": "code",
   "execution_count": 34,
   "metadata": {},
   "outputs": [
    {
     "data": {
      "text/html": [
       "<div>\n",
       "<style scoped>\n",
       "    .dataframe tbody tr th:only-of-type {\n",
       "        vertical-align: middle;\n",
       "    }\n",
       "\n",
       "    .dataframe tbody tr th {\n",
       "        vertical-align: top;\n",
       "    }\n",
       "\n",
       "    .dataframe thead th {\n",
       "        text-align: right;\n",
       "    }\n",
       "</style>\n",
       "<table border=\"1\" class=\"dataframe\">\n",
       "  <thead>\n",
       "    <tr style=\"text-align: right;\">\n",
       "      <th></th>\n",
       "      <th>Years</th>\n",
       "      <th>Salary</th>\n",
       "      <th>material 1</th>\n",
       "      <th>material 2</th>\n",
       "      <th>demand</th>\n",
       "      <th>price</th>\n",
       "    </tr>\n",
       "  </thead>\n",
       "  <tbody>\n",
       "    <tr>\n",
       "      <th>0</th>\n",
       "      <td>1990</td>\n",
       "      <td>39343.0</td>\n",
       "      <td>200.000000</td>\n",
       "      <td>89.600000</td>\n",
       "      <td>103</td>\n",
       "      <td>1200.0</td>\n",
       "    </tr>\n",
       "    <tr>\n",
       "      <th>1</th>\n",
       "      <td>1991</td>\n",
       "      <td>46205.0</td>\n",
       "      <td>212.000000</td>\n",
       "      <td>92.662500</td>\n",
       "      <td>104</td>\n",
       "      <td>1375.0</td>\n",
       "    </tr>\n",
       "    <tr>\n",
       "      <th>2</th>\n",
       "      <td>1992</td>\n",
       "      <td>37731.0</td>\n",
       "      <td>224.720000</td>\n",
       "      <td>95.807250</td>\n",
       "      <td>101</td>\n",
       "      <td>1451.0</td>\n",
       "    </tr>\n",
       "    <tr>\n",
       "      <th>3</th>\n",
       "      <td>1993</td>\n",
       "      <td>43525.0</td>\n",
       "      <td>238.203200</td>\n",
       "      <td>99.034819</td>\n",
       "      <td>99</td>\n",
       "      <td>1593.0</td>\n",
       "    </tr>\n",
       "    <tr>\n",
       "      <th>4</th>\n",
       "      <td>1994</td>\n",
       "      <td>39891.0</td>\n",
       "      <td>252.495392</td>\n",
       "      <td>102.345626</td>\n",
       "      <td>95</td>\n",
       "      <td>1718.5</td>\n",
       "    </tr>\n",
       "  </tbody>\n",
       "</table>\n",
       "</div>"
      ],
      "text/plain": [
       "   Years   Salary  material 1  material 2  demand   price\n",
       "0   1990  39343.0  200.000000   89.600000     103  1200.0\n",
       "1   1991  46205.0  212.000000   92.662500     104  1375.0\n",
       "2   1992  37731.0  224.720000   95.807250     101  1451.0\n",
       "3   1993  43525.0  238.203200   99.034819      99  1593.0\n",
       "4   1994  39891.0  252.495392  102.345626      95  1718.5"
      ]
     },
     "execution_count": 34,
     "metadata": {},
     "output_type": "execute_result"
    }
   ],
   "source": [
    "d=pd.read_excel(r\"C:\\Users\\Notebook\\Desktop\\EEcon\\data.xlsx\")\n",
    "d.head()"
   ]
  },
  {
   "cell_type": "code",
   "execution_count": 35,
   "metadata": {},
   "outputs": [
    {
     "data": {
      "text/html": [
       "<div>\n",
       "<style scoped>\n",
       "    .dataframe tbody tr th:only-of-type {\n",
       "        vertical-align: middle;\n",
       "    }\n",
       "\n",
       "    .dataframe tbody tr th {\n",
       "        vertical-align: top;\n",
       "    }\n",
       "\n",
       "    .dataframe thead th {\n",
       "        text-align: right;\n",
       "    }\n",
       "</style>\n",
       "<table border=\"1\" class=\"dataframe\">\n",
       "  <thead>\n",
       "    <tr style=\"text-align: right;\">\n",
       "      <th></th>\n",
       "      <th>Years</th>\n",
       "      <th>Salary</th>\n",
       "      <th>material 1</th>\n",
       "      <th>material 2</th>\n",
       "      <th>demand</th>\n",
       "      <th>price</th>\n",
       "    </tr>\n",
       "  </thead>\n",
       "  <tbody>\n",
       "    <tr>\n",
       "      <th>0</th>\n",
       "      <td>1990</td>\n",
       "      <td>39343.0</td>\n",
       "      <td>200.000000</td>\n",
       "      <td>89.600000</td>\n",
       "      <td>103</td>\n",
       "      <td>1200.0</td>\n",
       "    </tr>\n",
       "    <tr>\n",
       "      <th>1</th>\n",
       "      <td>1991</td>\n",
       "      <td>46205.0</td>\n",
       "      <td>212.000000</td>\n",
       "      <td>92.662500</td>\n",
       "      <td>104</td>\n",
       "      <td>1375.0</td>\n",
       "    </tr>\n",
       "    <tr>\n",
       "      <th>2</th>\n",
       "      <td>1992</td>\n",
       "      <td>37731.0</td>\n",
       "      <td>224.720000</td>\n",
       "      <td>95.807250</td>\n",
       "      <td>101</td>\n",
       "      <td>1451.0</td>\n",
       "    </tr>\n",
       "    <tr>\n",
       "      <th>3</th>\n",
       "      <td>1993</td>\n",
       "      <td>43525.0</td>\n",
       "      <td>238.203200</td>\n",
       "      <td>99.034819</td>\n",
       "      <td>99</td>\n",
       "      <td>1593.0</td>\n",
       "    </tr>\n",
       "    <tr>\n",
       "      <th>4</th>\n",
       "      <td>1994</td>\n",
       "      <td>39891.0</td>\n",
       "      <td>252.495392</td>\n",
       "      <td>102.345626</td>\n",
       "      <td>95</td>\n",
       "      <td>1718.5</td>\n",
       "    </tr>\n",
       "  </tbody>\n",
       "</table>\n",
       "</div>"
      ],
      "text/plain": [
       "   Years   Salary  material 1  material 2  demand   price\n",
       "0   1990  39343.0  200.000000   89.600000     103  1200.0\n",
       "1   1991  46205.0  212.000000   92.662500     104  1375.0\n",
       "2   1992  37731.0  224.720000   95.807250     101  1451.0\n",
       "3   1993  43525.0  238.203200   99.034819      99  1593.0\n",
       "4   1994  39891.0  252.495392  102.345626      95  1718.5"
      ]
     },
     "execution_count": 35,
     "metadata": {},
     "output_type": "execute_result"
    }
   ],
   "source": [
    "d=d.ffill()\n",
    "d.head()"
   ]
  },
  {
   "cell_type": "markdown",
   "metadata": {},
   "source": [
    "Q2"
   ]
  },
  {
   "cell_type": "code",
   "execution_count": 36,
   "metadata": {},
   "outputs": [],
   "source": [
    "X,Y=d['Years'].values,d['Salary'].values\n",
    "X,Y=X.reshape(-1,1),Y.reshape(-1,1)"
   ]
  },
  {
   "cell_type": "code",
   "execution_count": 37,
   "metadata": {},
   "outputs": [
    {
     "name": "stdout",
     "output_type": "stream",
     "text": [
      "Score= 0.9288722371152188\n"
     ]
    }
   ],
   "source": [
    "from sklearn.linear_model import LinearRegression\n",
    "lr=LinearRegression()\n",
    "lr.fit(X,Y)\n",
    "print('Score=',lr.score(X,Y))"
   ]
  },
  {
   "cell_type": "markdown",
   "metadata": {},
   "source": [
    "Q3"
   ]
  },
  {
   "cell_type": "code",
   "execution_count": 38,
   "metadata": {},
   "outputs": [
    {
     "data": {
      "text/plain": [
       "<matplotlib.collections.PathCollection at 0x1a596587010>"
      ]
     },
     "execution_count": 38,
     "metadata": {},
     "output_type": "execute_result"
    },
    {
     "data": {
      "image/png": "[encoded data removed]",
      "text/plain": [
       "<Figure size 640x480 with 1 Axes>"
      ]
     },
     "metadata": {},
     "output_type": "display_data"
    }
   ],
   "source": [
    "x1=np.arange(1990,2023).reshape(-1,1)\n",
    "x2=np.arange(2023,2051).reshape(-1,1)\n",
    "y1=lr.predict(x1)\n",
    "y2=lr.predict(x2)\n",
    "plt.plot(x1,y1,c='blue')\n",
    "plt.plot(x2,y2,c='orange')\n",
    "plt.scatter(d['Years'],d['Salary'])"
   ]
  },
  {
   "cell_type": "code",
   "execution_count": 39,
   "metadata": {},
   "outputs": [
    {
     "data": {
      "text/html": [
       "<div>\n",
       "<style scoped>\n",
       "    .dataframe tbody tr th:only-of-type {\n",
       "        vertical-align: middle;\n",
       "    }\n",
       "\n",
       "    .dataframe tbody tr th {\n",
       "        vertical-align: top;\n",
       "    }\n",
       "\n",
       "    .dataframe thead th {\n",
       "        text-align: right;\n",
       "    }\n",
       "</style>\n",
       "<table border=\"1\" class=\"dataframe\">\n",
       "  <thead>\n",
       "    <tr style=\"text-align: right;\">\n",
       "      <th></th>\n",
       "      <th>Year</th>\n",
       "      <th>Salary</th>\n",
       "    </tr>\n",
       "  </thead>\n",
       "  <tbody>\n",
       "    <tr>\n",
       "      <th>0</th>\n",
       "      <td>2023</td>\n",
       "      <td>120929.164773</td>\n",
       "    </tr>\n",
       "    <tr>\n",
       "      <th>1</th>\n",
       "      <td>2024</td>\n",
       "      <td>123568.227941</td>\n",
       "    </tr>\n",
       "    <tr>\n",
       "      <th>2</th>\n",
       "      <td>2025</td>\n",
       "      <td>126207.291110</td>\n",
       "    </tr>\n",
       "    <tr>\n",
       "      <th>3</th>\n",
       "      <td>2026</td>\n",
       "      <td>128846.354278</td>\n",
       "    </tr>\n",
       "    <tr>\n",
       "      <th>4</th>\n",
       "      <td>2027</td>\n",
       "      <td>131485.417447</td>\n",
       "    </tr>\n",
       "  </tbody>\n",
       "</table>\n",
       "</div>"
      ],
      "text/plain": [
       "   Year         Salary\n",
       "0  2023  120929.164773\n",
       "1  2024  123568.227941\n",
       "2  2025  126207.291110\n",
       "3  2026  128846.354278\n",
       "4  2027  131485.417447"
      ]
     },
     "execution_count": 39,
     "metadata": {},
     "output_type": "execute_result"
    }
   ],
   "source": [
    "df=pd.DataFrame({\n",
    "    'Year' : [i for i in range(2023,2051)]\n",
    "})\n",
    "years=df['Year'].values.reshape(-1,1)\n",
    "salaries=lr.predict(years)\n",
    "df['Salary'] = salaries\n",
    "df.head()"
   ]
  },
  {
   "cell_type": "markdown",
   "metadata": {},
   "source": [
    "Q4"
   ]
  },
  {
   "cell_type": "code",
   "execution_count": 40,
   "metadata": {},
   "outputs": [
    {
     "data": {
      "text/plain": [
       "array([1368.11797656, 1450.20505515, 1537.21735846, 1629.45039997,\n",
       "       1727.21742397, 1830.85046941, 1940.70149757, 2057.14358743,\n",
       "       2180.57220267, 2311.40653483, 2450.09092692, 2597.09638254,\n",
       "       2752.92216549, 2918.09749542, 3093.18334514, 3278.77434585,\n",
       "       3475.5008066 , 3684.030855  , 3905.0727063 , 4139.37706868,\n",
       "       4387.7396928 , 4651.00407436, 4930.06431883, 5225.86817796,\n",
       "       5539.42026863, 5871.78548475, 6224.09261384, 6597.53817067])"
      ]
     },
     "execution_count": 40,
     "metadata": {},
     "output_type": "execute_result"
    }
   ],
   "source": [
    "first=d['material 1'].values[-1]\n",
    "array=np.ones(28)\n",
    "for i in range(1,29):\n",
    "    array[i-1] = p_to_f(first,0.06,i)\n",
    "array"
   ]
  },
  {
   "cell_type": "code",
   "execution_count": 41,
   "metadata": {},
   "outputs": [
    {
     "data": {
      "text/html": [
       "<div>\n",
       "<style scoped>\n",
       "    .dataframe tbody tr th:only-of-type {\n",
       "        vertical-align: middle;\n",
       "    }\n",
       "\n",
       "    .dataframe tbody tr th {\n",
       "        vertical-align: top;\n",
       "    }\n",
       "\n",
       "    .dataframe thead th {\n",
       "        text-align: right;\n",
       "    }\n",
       "</style>\n",
       "<table border=\"1\" class=\"dataframe\">\n",
       "  <thead>\n",
       "    <tr style=\"text-align: right;\">\n",
       "      <th></th>\n",
       "      <th>Year</th>\n",
       "      <th>Salary</th>\n",
       "      <th>Material 1</th>\n",
       "    </tr>\n",
       "  </thead>\n",
       "  <tbody>\n",
       "    <tr>\n",
       "      <th>0</th>\n",
       "      <td>2023</td>\n",
       "      <td>120929.164773</td>\n",
       "      <td>1368.117977</td>\n",
       "    </tr>\n",
       "    <tr>\n",
       "      <th>1</th>\n",
       "      <td>2024</td>\n",
       "      <td>123568.227941</td>\n",
       "      <td>1450.205055</td>\n",
       "    </tr>\n",
       "    <tr>\n",
       "      <th>2</th>\n",
       "      <td>2025</td>\n",
       "      <td>126207.291110</td>\n",
       "      <td>1537.217358</td>\n",
       "    </tr>\n",
       "    <tr>\n",
       "      <th>3</th>\n",
       "      <td>2026</td>\n",
       "      <td>128846.354278</td>\n",
       "      <td>1629.450400</td>\n",
       "    </tr>\n",
       "    <tr>\n",
       "      <th>4</th>\n",
       "      <td>2027</td>\n",
       "      <td>131485.417447</td>\n",
       "      <td>1727.217424</td>\n",
       "    </tr>\n",
       "  </tbody>\n",
       "</table>\n",
       "</div>"
      ],
      "text/plain": [
       "   Year         Salary   Material 1\n",
       "0  2023  120929.164773  1368.117977\n",
       "1  2024  123568.227941  1450.205055\n",
       "2  2025  126207.291110  1537.217358\n",
       "3  2026  128846.354278  1629.450400\n",
       "4  2027  131485.417447  1727.217424"
      ]
     },
     "execution_count": 41,
     "metadata": {},
     "output_type": "execute_result"
    }
   ],
   "source": [
    "df['Material 1'] = array\n",
    "df.head()"
   ]
  },
  {
   "cell_type": "markdown",
   "metadata": {},
   "source": [
    "Q5"
   ]
  },
  {
   "cell_type": "code",
   "execution_count": 42,
   "metadata": {},
   "outputs": [
    {
     "data": {
      "text/plain": [
       "array([89.6 , 88.25, 86.9 , 85.55, 84.2 , 82.85, 81.5 , 80.15, 78.8 ,\n",
       "       77.45, 76.1 , 74.75, 73.4 , 72.05, 70.7 , 69.35, 68.  , 66.65,\n",
       "       65.3 , 63.95, 62.6 , 61.25, 59.9 , 58.55, 57.2 , 55.85, 54.5 ,\n",
       "       53.15, 51.8 , 50.45, 49.1 , 47.75, 46.4 ])"
      ]
     },
     "execution_count": 42,
     "metadata": {},
     "output_type": "execute_result"
    }
   ],
   "source": [
    "array=np.ones_like(d['material 2'].values)\n",
    "\n",
    "for i in range(len(array)):\n",
    "    array[i] = f_to_p(d['material 2'][i],0.05,i)\n",
    "array"
   ]
  },
  {
   "cell_type": "code",
   "execution_count": 43,
   "metadata": {},
   "outputs": [
    {
     "data": {
      "text/plain": [
       "1.0"
      ]
     },
     "execution_count": 43,
     "metadata": {},
     "output_type": "execute_result"
    }
   ],
   "source": [
    "X=d[\"Years\"].values.reshape(-1,1)\n",
    "Y=array.reshape(-1,1)\n",
    "model = LinearRegression()\n",
    "model.fit(X,Y)\n",
    "score = model.score(X,Y)\n",
    "score"
   ]
  },
  {
   "cell_type": "markdown",
   "metadata": {},
   "source": [
    "Q6"
   ]
  },
  {
   "cell_type": "code",
   "execution_count": 44,
   "metadata": {},
   "outputs": [
    {
     "data": {
      "text/plain": [
       "<matplotlib.collections.PathCollection at 0x1a5963e9c30>"
      ]
     },
     "execution_count": 44,
     "metadata": {},
     "output_type": "execute_result"
    },
    {
     "data": {
      "image/png": "[encoded data removed]",
      "text/plain": [
       "<Figure size 640x480 with 1 Axes>"
      ]
     },
     "metadata": {},
     "output_type": "display_data"
    }
   ],
   "source": [
    "x1=np.arange(1990,2023).reshape(-1,1)\n",
    "x2=np.arange(2023,2051).reshape(-1,1)\n",
    "y1=model.predict(x1)\n",
    "y2=model.predict(x2)\n",
    "plt.plot(x1,y1,c='blue')\n",
    "plt.plot(x2,y2,c='orange')\n",
    "plt.scatter(d['Years'],array)"
   ]
  },
  {
   "cell_type": "code",
   "execution_count": 45,
   "metadata": {},
   "outputs": [
    {
     "data": {
      "text/html": [
       "<div>\n",
       "<style scoped>\n",
       "    .dataframe tbody tr th:only-of-type {\n",
       "        vertical-align: middle;\n",
       "    }\n",
       "\n",
       "    .dataframe tbody tr th {\n",
       "        vertical-align: top;\n",
       "    }\n",
       "\n",
       "    .dataframe thead th {\n",
       "        text-align: right;\n",
       "    }\n",
       "</style>\n",
       "<table border=\"1\" class=\"dataframe\">\n",
       "  <thead>\n",
       "    <tr style=\"text-align: right;\">\n",
       "      <th></th>\n",
       "      <th>Year</th>\n",
       "      <th>Salary</th>\n",
       "      <th>Material 1</th>\n",
       "      <th>material 2</th>\n",
       "    </tr>\n",
       "  </thead>\n",
       "  <tbody>\n",
       "    <tr>\n",
       "      <th>0</th>\n",
       "      <td>2023</td>\n",
       "      <td>120929.164773</td>\n",
       "      <td>1368.117977</td>\n",
       "      <td>225.393644</td>\n",
       "    </tr>\n",
       "    <tr>\n",
       "      <th>1</th>\n",
       "      <td>2024</td>\n",
       "      <td>123568.227941</td>\n",
       "      <td>1450.205055</td>\n",
       "      <td>229.571306</td>\n",
       "    </tr>\n",
       "    <tr>\n",
       "      <th>2</th>\n",
       "      <td>2025</td>\n",
       "      <td>126207.291110</td>\n",
       "      <td>1537.217358</td>\n",
       "      <td>233.603251</td>\n",
       "    </tr>\n",
       "    <tr>\n",
       "      <th>3</th>\n",
       "      <td>2026</td>\n",
       "      <td>128846.354278</td>\n",
       "      <td>1629.450400</td>\n",
       "      <td>237.464462</td>\n",
       "    </tr>\n",
       "    <tr>\n",
       "      <th>4</th>\n",
       "      <td>2027</td>\n",
       "      <td>131485.417447</td>\n",
       "      <td>1727.217424</td>\n",
       "      <td>241.127785</td>\n",
       "    </tr>\n",
       "  </tbody>\n",
       "</table>\n",
       "</div>"
      ],
      "text/plain": [
       "   Year         Salary   Material 1  material 2\n",
       "0  2023  120929.164773  1368.117977  225.393644\n",
       "1  2024  123568.227941  1450.205055  229.571306\n",
       "2  2025  126207.291110  1537.217358  233.603251\n",
       "3  2026  128846.354278  1629.450400  237.464462\n",
       "4  2027  131485.417447  1727.217424  241.127785"
      ]
     },
     "execution_count": 45,
     "metadata": {},
     "output_type": "execute_result"
    }
   ],
   "source": [
    "prices=model.predict(years)\n",
    "for i in range(len(prices)):\n",
    "    prices[i] = p_to_f(prices[i],0.05,i+33)\n",
    "df['material 2'] = prices\n",
    "df.head()"
   ]
  },
  {
   "cell_type": "markdown",
   "metadata": {},
   "source": [
    "Q7"
   ]
  },
  {
   "cell_type": "code",
   "execution_count": 46,
   "metadata": {},
   "outputs": [],
   "source": [
    "output=[]\n",
    "year = []\n",
    "for i in range(1990,2023):\n",
    "    output.append(e**(-i/50))\n",
    "\n",
    "for i in range(2023,2051):\n",
    "    year.append(e**(-i/50))\n",
    "\n",
    "demand = list(d['demand'])"
   ]
  },
  {
   "cell_type": "markdown",
   "metadata": {},
   "source": [
    "Q8"
   ]
  },
  {
   "cell_type": "code",
   "execution_count": 47,
   "metadata": {},
   "outputs": [],
   "source": [
    "X = np.array(output).reshape(-1, 1)\n",
    "Y = np.array(demand).reshape(-1, 1)"
   ]
  },
  {
   "cell_type": "code",
   "execution_count": 48,
   "metadata": {},
   "outputs": [
    {
     "data": {
      "text/plain": [
       "0.9849573838479749"
      ]
     },
     "execution_count": 48,
     "metadata": {},
     "output_type": "execute_result"
    }
   ],
   "source": [
    "model = LinearRegression()\n",
    "model.fit(X, Y)\n",
    "score = model.score(X,Y)\n",
    "score"
   ]
  },
  {
   "cell_type": "markdown",
   "metadata": {},
   "source": [
    "Q9"
   ]
  },
  {
   "cell_type": "code",
   "execution_count": 49,
   "metadata": {},
   "outputs": [
    {
     "data": {
      "text/plain": [
       "<matplotlib.collections.PathCollection at 0x1a5967e8610>"
      ]
     },
     "execution_count": 49,
     "metadata": {},
     "output_type": "execute_result"
    },
    {
     "data": {
      "image/png": "[encoded data removed]",
      "text/plain": [
       "<Figure size 640x480 with 1 Axes>"
      ]
     },
     "metadata": {},
     "output_type": "display_data"
    }
   ],
   "source": [
    "x1=np.arange(1990,2023).reshape(-1,1)\n",
    "x2=np.arange(2023,2051).reshape(-1,1)\n",
    "output=np.array(output).reshape(-1, 1)\n",
    "year=np.array(year).reshape(-1, 1)\n",
    "y1=model.predict(output)\n",
    "y2=model.predict(year)\n",
    "plt.plot(x1,y1,c='blue')\n",
    "plt.plot(x2,y2,c='orange')\n",
    "plt.scatter(d['Years'],d['demand'])"
   ]
  },
  {
   "cell_type": "code",
   "execution_count": 50,
   "metadata": {},
   "outputs": [
    {
     "data": {
      "text/html": [
       "<div>\n",
       "<style scoped>\n",
       "    .dataframe tbody tr th:only-of-type {\n",
       "        vertical-align: middle;\n",
       "    }\n",
       "\n",
       "    .dataframe tbody tr th {\n",
       "        vertical-align: top;\n",
       "    }\n",
       "\n",
       "    .dataframe thead th {\n",
       "        text-align: right;\n",
       "    }\n",
       "</style>\n",
       "<table border=\"1\" class=\"dataframe\">\n",
       "  <thead>\n",
       "    <tr style=\"text-align: right;\">\n",
       "      <th></th>\n",
       "      <th>Year</th>\n",
       "      <th>Salary</th>\n",
       "      <th>Material 1</th>\n",
       "      <th>material 2</th>\n",
       "      <th>demand</th>\n",
       "    </tr>\n",
       "  </thead>\n",
       "  <tbody>\n",
       "    <tr>\n",
       "      <th>0</th>\n",
       "      <td>2023</td>\n",
       "      <td>120929.164773</td>\n",
       "      <td>1368.117977</td>\n",
       "      <td>225.393644</td>\n",
       "      <td>55.655541</td>\n",
       "    </tr>\n",
       "    <tr>\n",
       "      <th>1</th>\n",
       "      <td>2024</td>\n",
       "      <td>123568.227941</td>\n",
       "      <td>1450.205055</td>\n",
       "      <td>229.571306</td>\n",
       "      <td>54.618177</td>\n",
       "    </tr>\n",
       "    <tr>\n",
       "      <th>2</th>\n",
       "      <td>2025</td>\n",
       "      <td>126207.291110</td>\n",
       "      <td>1537.217358</td>\n",
       "      <td>233.603251</td>\n",
       "      <td>53.601354</td>\n",
       "    </tr>\n",
       "    <tr>\n",
       "      <th>3</th>\n",
       "      <td>2026</td>\n",
       "      <td>128846.354278</td>\n",
       "      <td>1629.450400</td>\n",
       "      <td>237.464462</td>\n",
       "      <td>52.604666</td>\n",
       "    </tr>\n",
       "    <tr>\n",
       "      <th>4</th>\n",
       "      <td>2027</td>\n",
       "      <td>131485.417447</td>\n",
       "      <td>1727.217424</td>\n",
       "      <td>241.127785</td>\n",
       "      <td>51.627714</td>\n",
       "    </tr>\n",
       "  </tbody>\n",
       "</table>\n",
       "</div>"
      ],
      "text/plain": [
       "   Year         Salary   Material 1  material 2     demand\n",
       "0  2023  120929.164773  1368.117977  225.393644  55.655541\n",
       "1  2024  123568.227941  1450.205055  229.571306  54.618177\n",
       "2  2025  126207.291110  1537.217358  233.603251  53.601354\n",
       "3  2026  128846.354278  1629.450400  237.464462  52.604666\n",
       "4  2027  131485.417447  1727.217424  241.127785  51.627714"
      ]
     },
     "execution_count": 50,
     "metadata": {},
     "output_type": "execute_result"
    }
   ],
   "source": [
    "demands=[d[0] for d in y2]\n",
    "df['demand'] = demands\n",
    "df.head()"
   ]
  },
  {
   "cell_type": "markdown",
   "metadata": {},
   "source": [
    "Q10"
   ]
  },
  {
   "cell_type": "code",
   "execution_count": 51,
   "metadata": {},
   "outputs": [
    {
     "name": "stdout",
     "output_type": "stream",
     "text": [
      "Score= 0.9999653378861689\n"
     ]
    }
   ],
   "source": [
    "train_x = d[['Years']]\n",
    "train_y = d[['price']]\n",
    "regr = LinearRegression().fit(train_x, train_y)\n",
    "print('Score=',regr.score(train_x,train_y))"
   ]
  },
  {
   "cell_type": "markdown",
   "metadata": {},
   "source": [
    "Q11"
   ]
  },
  {
   "cell_type": "code",
   "execution_count": 52,
   "metadata": {},
   "outputs": [
    {
     "name": "stderr",
     "output_type": "stream",
     "text": [
      "c:\\Users\\Notebook\\AppData\\Local\\Programs\\Python\\Python310\\lib\\site-packages\\sklearn\\base.py:493: UserWarning: X does not have valid feature names, but LinearRegression was fitted with feature names\n",
      "  warnings.warn(\n",
      "c:\\Users\\Notebook\\AppData\\Local\\Programs\\Python\\Python310\\lib\\site-packages\\sklearn\\base.py:493: UserWarning: X does not have valid feature names, but LinearRegression was fitted with feature names\n",
      "  warnings.warn(\n"
     ]
    },
    {
     "data": {
      "text/plain": [
       "<matplotlib.collections.PathCollection at 0x1a59683f640>"
      ]
     },
     "execution_count": 52,
     "metadata": {},
     "output_type": "execute_result"
    },
    {
     "data": {
      "image/png": "[encoded data removed]",
      "text/plain": [
       "<Figure size 640x480 with 1 Axes>"
      ]
     },
     "metadata": {},
     "output_type": "display_data"
    }
   ],
   "source": [
    "x1=np.arange(1990,2023).reshape(-1,1)\n",
    "x2=np.arange(2023,2051).reshape(-1,1)\n",
    "y1=regr.predict(x1)\n",
    "y2=regr.predict(x2)\n",
    "plt.plot(x1,y1,c='blue')\n",
    "plt.plot(x2,y2,c='orange')\n",
    "plt.scatter(d['Years'],d['price'])"
   ]
  },
  {
   "cell_type": "code",
   "execution_count": 53,
   "metadata": {},
   "outputs": [
    {
     "name": "stdout",
     "output_type": "stream",
     "text": [
      "(28, 6)\n"
     ]
    },
    {
     "name": "stderr",
     "output_type": "stream",
     "text": [
      "c:\\Users\\Notebook\\AppData\\Local\\Programs\\Python\\Python310\\lib\\site-packages\\sklearn\\base.py:493: UserWarning: X does not have valid feature names, but LinearRegression was fitted with feature names\n",
      "  warnings.warn(\n"
     ]
    },
    {
     "data": {
      "text/html": [
       "<div>\n",
       "<style scoped>\n",
       "    .dataframe tbody tr th:only-of-type {\n",
       "        vertical-align: middle;\n",
       "    }\n",
       "\n",
       "    .dataframe tbody tr th {\n",
       "        vertical-align: top;\n",
       "    }\n",
       "\n",
       "    .dataframe thead th {\n",
       "        text-align: right;\n",
       "    }\n",
       "</style>\n",
       "<table border=\"1\" class=\"dataframe\">\n",
       "  <thead>\n",
       "    <tr style=\"text-align: right;\">\n",
       "      <th></th>\n",
       "      <th>Year</th>\n",
       "      <th>Salary</th>\n",
       "      <th>Material 1</th>\n",
       "      <th>material 2</th>\n",
       "      <th>demand</th>\n",
       "      <th>prices</th>\n",
       "    </tr>\n",
       "  </thead>\n",
       "  <tbody>\n",
       "    <tr>\n",
       "      <th>0</th>\n",
       "      <td>2023</td>\n",
       "      <td>120929.164773</td>\n",
       "      <td>1368.117977</td>\n",
       "      <td>225.393644</td>\n",
       "      <td>55.655541</td>\n",
       "      <td>5358.0</td>\n",
       "    </tr>\n",
       "    <tr>\n",
       "      <th>1</th>\n",
       "      <td>2024</td>\n",
       "      <td>123568.227941</td>\n",
       "      <td>1450.205055</td>\n",
       "      <td>229.571306</td>\n",
       "      <td>54.618177</td>\n",
       "      <td>5483.5</td>\n",
       "    </tr>\n",
       "    <tr>\n",
       "      <th>2</th>\n",
       "      <td>2025</td>\n",
       "      <td>126207.291110</td>\n",
       "      <td>1537.217358</td>\n",
       "      <td>233.603251</td>\n",
       "      <td>53.601354</td>\n",
       "      <td>5609.0</td>\n",
       "    </tr>\n",
       "    <tr>\n",
       "      <th>3</th>\n",
       "      <td>2026</td>\n",
       "      <td>128846.354278</td>\n",
       "      <td>1629.450400</td>\n",
       "      <td>237.464462</td>\n",
       "      <td>52.604666</td>\n",
       "      <td>5734.5</td>\n",
       "    </tr>\n",
       "    <tr>\n",
       "      <th>4</th>\n",
       "      <td>2027</td>\n",
       "      <td>131485.417447</td>\n",
       "      <td>1727.217424</td>\n",
       "      <td>241.127785</td>\n",
       "      <td>51.627714</td>\n",
       "      <td>5860.0</td>\n",
       "    </tr>\n",
       "  </tbody>\n",
       "</table>\n",
       "</div>"
      ],
      "text/plain": [
       "   Year         Salary   Material 1  material 2     demand  prices\n",
       "0  2023  120929.164773  1368.117977  225.393644  55.655541  5358.0\n",
       "1  2024  123568.227941  1450.205055  229.571306  54.618177  5483.5\n",
       "2  2025  126207.291110  1537.217358  233.603251  53.601354  5609.0\n",
       "3  2026  128846.354278  1629.450400  237.464462  52.604666  5734.5\n",
       "4  2027  131485.417447  1727.217424  241.127785  51.627714  5860.0"
      ]
     },
     "execution_count": 53,
     "metadata": {},
     "output_type": "execute_result"
    }
   ],
   "source": [
    "prices=regr.predict(years)\n",
    "df['prices'] = prices\n",
    "print(df.shape)\n",
    "df.head()"
   ]
  },
  {
   "cell_type": "code",
   "execution_count": 54,
   "metadata": {},
   "outputs": [
    {
     "data": {
      "text/html": [
       "<div>\n",
       "<style scoped>\n",
       "    .dataframe tbody tr th:only-of-type {\n",
       "        vertical-align: middle;\n",
       "    }\n",
       "\n",
       "    .dataframe tbody tr th {\n",
       "        vertical-align: top;\n",
       "    }\n",
       "\n",
       "    .dataframe thead th {\n",
       "        text-align: right;\n",
       "    }\n",
       "</style>\n",
       "<table border=\"1\" class=\"dataframe\">\n",
       "  <thead>\n",
       "    <tr style=\"text-align: right;\">\n",
       "      <th></th>\n",
       "      <th>Year</th>\n",
       "      <th>Salary</th>\n",
       "      <th>Material 1</th>\n",
       "      <th>material 2</th>\n",
       "      <th>demand</th>\n",
       "      <th>prices</th>\n",
       "      <th>material 2 (new)</th>\n",
       "    </tr>\n",
       "  </thead>\n",
       "  <tbody>\n",
       "    <tr>\n",
       "      <th>0</th>\n",
       "      <td>2023</td>\n",
       "      <td>120929.164773</td>\n",
       "      <td>1368.117977</td>\n",
       "      <td>225.393644</td>\n",
       "      <td>55.655541</td>\n",
       "      <td>5358.0</td>\n",
       "      <td>202.85427943675884</td>\n",
       "    </tr>\n",
       "    <tr>\n",
       "      <th>1</th>\n",
       "      <td>2024</td>\n",
       "      <td>123568.227941</td>\n",
       "      <td>1450.205055</td>\n",
       "      <td>229.571306</td>\n",
       "      <td>54.618177</td>\n",
       "      <td>5483.5</td>\n",
       "      <td>206.61417562609765</td>\n",
       "    </tr>\n",
       "    <tr>\n",
       "      <th>2</th>\n",
       "      <td>2025</td>\n",
       "      <td>126207.291110</td>\n",
       "      <td>1537.217358</td>\n",
       "      <td>233.603251</td>\n",
       "      <td>53.601354</td>\n",
       "      <td>5609.0</td>\n",
       "      <td>210.2429257357784</td>\n",
       "    </tr>\n",
       "    <tr>\n",
       "      <th>3</th>\n",
       "      <td>2026</td>\n",
       "      <td>128846.354278</td>\n",
       "      <td>1629.450400</td>\n",
       "      <td>237.464462</td>\n",
       "      <td>52.604666</td>\n",
       "      <td>5734.5</td>\n",
       "      <td>213.71801541736198</td>\n",
       "    </tr>\n",
       "    <tr>\n",
       "      <th>4</th>\n",
       "      <td>2027</td>\n",
       "      <td>131485.417447</td>\n",
       "      <td>1727.217424</td>\n",
       "      <td>241.127785</td>\n",
       "      <td>51.627714</td>\n",
       "      <td>5860.0</td>\n",
       "      <td>217.015006752762</td>\n",
       "    </tr>\n",
       "  </tbody>\n",
       "</table>\n",
       "</div>"
      ],
      "text/plain": [
       "   Year         Salary   Material 1  material 2     demand  prices  \\\n",
       "0  2023  120929.164773  1368.117977  225.393644  55.655541  5358.0   \n",
       "1  2024  123568.227941  1450.205055  229.571306  54.618177  5483.5   \n",
       "2  2025  126207.291110  1537.217358  233.603251  53.601354  5609.0   \n",
       "3  2026  128846.354278  1629.450400  237.464462  52.604666  5734.5   \n",
       "4  2027  131485.417447  1727.217424  241.127785  51.627714  5860.0   \n",
       "\n",
       "     material 2 (new)  \n",
       "0  202.85427943675884  \n",
       "1  206.61417562609765  \n",
       "2   210.2429257357784  \n",
       "3  213.71801541736198  \n",
       "4    217.015006752762  "
      ]
     },
     "execution_count": 54,
     "metadata": {},
     "output_type": "execute_result"
    }
   ],
   "source": [
    "conditions = [\n",
    "    (df['demand'] > 60),\n",
    "    ((df['demand'] < 60) & (df['demand'] > 40)),\n",
    "    ((df['demand'] > 20) & (df['demand'] < 40)),\n",
    "    (df['demand'] <= 20)\n",
    "]\n",
    "\n",
    "values = [\n",
    "    df['material 2'] * (1 - 0.18),\n",
    "    df['material 2'] * (1 - 0.10),\n",
    "    df['material 2'] * (1 - 0.05),\n",
    "   df['material 2']\n",
    "]\n",
    "\n",
    "df['material 2 (new)'] = np.select(conditions, values, default='')\n",
    "\n",
    "df.head()"
   ]
  },
  {
   "cell_type": "code",
   "execution_count": 55,
   "metadata": {},
   "outputs": [],
   "source": [
    "revenue = np.array(df['demand']) * np.array(df['prices'])\n",
    "df['material 2 (new)'] = pd.to_numeric(df['material 2 (new)'], errors='coerce')"
   ]
  },
  {
   "cell_type": "code",
   "execution_count": 56,
   "metadata": {},
   "outputs": [],
   "source": [
    "costs = np.array(df['demand'])*np.array(df['Material 1']) + np.array(df['Salary'])\n",
    "costs = costs + np.array(df['demand'])*np.array(df['material 2 (new)'])\n",
    "\n",
    "profit = revenue - costs\n",
    "\n",
    "df['profit'] = profit"
   ]
  },
  {
   "cell_type": "code",
   "execution_count": 57,
   "metadata": {},
   "outputs": [],
   "source": [
    "columns = ['Year', 'profit']\n",
    "df_profit = pd.DataFrame(df, columns=columns)"
   ]
  },
  {
   "cell_type": "markdown",
   "metadata": {},
   "source": [
    "<p align=\"right\">خواسته اول<p>"
   ]
  },
  {
   "cell_type": "code",
   "execution_count": 58,
   "metadata": {},
   "outputs": [
    {
     "data": {
      "text/plain": [
       "<matplotlib.collections.PathCollection at 0x1a592f540a0>"
      ]
     },
     "execution_count": 58,
     "metadata": {},
     "output_type": "execute_result"
    },
    {
     "data": {
      "image/png": "[encoded data removed]",
      "text/plain": [
       "<Figure size 640x480 with 1 Axes>"
      ]
     },
     "metadata": {},
     "output_type": "display_data"
    }
   ],
   "source": [
    "plt.scatter(df_profit['Year'], df_profit['profit'])"
   ]
  },
  {
   "cell_type": "code",
   "execution_count": 59,
   "metadata": {},
   "outputs": [
    {
     "data": {
      "text/plain": [
       "2037"
      ]
     },
     "execution_count": 59,
     "metadata": {},
     "output_type": "execute_result"
    }
   ],
   "source": [
    "np.argmax(df_profit['profit'] < 0) + df_profit['Year'].min()-1"
   ]
  },
  {
   "cell_type": "markdown",
   "metadata": {},
   "source": [
    "<p align=\"right\">خواسته دوم<p>"
   ]
  },
  {
   "cell_type": "code",
   "execution_count": 60,
   "metadata": {},
   "outputs": [
    {
     "data": {
      "text/html": [
       "<div>\n",
       "<style scoped>\n",
       "    .dataframe tbody tr th:only-of-type {\n",
       "        vertical-align: middle;\n",
       "    }\n",
       "\n",
       "    .dataframe tbody tr th {\n",
       "        vertical-align: top;\n",
       "    }\n",
       "\n",
       "    .dataframe thead th {\n",
       "        text-align: right;\n",
       "    }\n",
       "</style>\n",
       "<table border=\"1\" class=\"dataframe\">\n",
       "  <thead>\n",
       "    <tr style=\"text-align: right;\">\n",
       "      <th></th>\n",
       "      <th>Year</th>\n",
       "      <th>profit</th>\n",
       "    </tr>\n",
       "  </thead>\n",
       "  <tbody>\n",
       "    <tr>\n",
       "      <th>0</th>\n",
       "      <td>2023</td>\n",
       "      <td>89839.911904</td>\n",
       "    </tr>\n",
       "    <tr>\n",
       "      <th>1</th>\n",
       "      <td>2024</td>\n",
       "      <td>85438.099136</td>\n",
       "    </tr>\n",
       "    <tr>\n",
       "      <th>2</th>\n",
       "      <td>2025</td>\n",
       "      <td>80776.467091</td>\n",
       "    </tr>\n",
       "    <tr>\n",
       "      <th>3</th>\n",
       "      <td>2026</td>\n",
       "      <td>75855.844175</td>\n",
       "    </tr>\n",
       "    <tr>\n",
       "      <th>4</th>\n",
       "      <td>2027</td>\n",
       "      <td>70676.709105</td>\n",
       "    </tr>\n",
       "    <tr>\n",
       "      <th>5</th>\n",
       "      <td>2028</td>\n",
       "      <td>65239.186470</td>\n",
       "    </tr>\n",
       "    <tr>\n",
       "      <th>6</th>\n",
       "      <td>2029</td>\n",
       "      <td>59543.041797</td>\n",
       "    </tr>\n",
       "    <tr>\n",
       "      <th>7</th>\n",
       "      <td>2030</td>\n",
       "      <td>53587.676090</td>\n",
       "    </tr>\n",
       "    <tr>\n",
       "      <th>8</th>\n",
       "      <td>2031</td>\n",
       "      <td>47372.119849</td>\n",
       "    </tr>\n",
       "    <tr>\n",
       "      <th>9</th>\n",
       "      <td>2032</td>\n",
       "      <td>40895.026531</td>\n",
       "    </tr>\n",
       "  </tbody>\n",
       "</table>\n",
       "</div>"
      ],
      "text/plain": [
       "   Year        profit\n",
       "0  2023  89839.911904\n",
       "1  2024  85438.099136\n",
       "2  2025  80776.467091\n",
       "3  2026  75855.844175\n",
       "4  2027  70676.709105\n",
       "5  2028  65239.186470\n",
       "6  2029  59543.041797\n",
       "7  2030  53587.676090\n",
       "8  2031  47372.119849\n",
       "9  2032  40895.026531"
      ]
     },
     "execution_count": 60,
     "metadata": {},
     "output_type": "execute_result"
    }
   ],
   "source": [
    "df_2022_2032 = df_profit[df_profit['Year'] <= 2032]\n",
    "df_2022_2032"
   ]
  },
  {
   "cell_type": "code",
   "execution_count": 61,
   "metadata": {},
   "outputs": [
    {
     "name": "stderr",
     "output_type": "stream",
     "text": [
      "C:\\Users\\Notebook\\AppData\\Local\\Temp\\ipykernel_4800\\3096674057.py:1: SettingWithCopyWarning: \n",
      "A value is trying to be set on a copy of a slice from a DataFrame.\n",
      "Try using .loc[row_indexer,col_indexer] = value instead\n",
      "\n",
      "See the caveats in the documentation: https://pandas.pydata.org/pandas-docs/stable/user_guide/indexing.html#returning-a-view-versus-a-copy\n",
      "  df_2022_2032['stakeholder_share'] = df_2022_2032['profit'] * 0.25\n",
      "C:\\Users\\Notebook\\AppData\\Local\\Temp\\ipykernel_4800\\3096674057.py:2: SettingWithCopyWarning: \n",
      "A value is trying to be set on a copy of a slice from a DataFrame.\n",
      "Try using .loc[row_indexer,col_indexer] = value instead\n",
      "\n",
      "See the caveats in the documentation: https://pandas.pydata.org/pandas-docs/stable/user_guide/indexing.html#returning-a-view-versus-a-copy\n",
      "  df_2022_2032['annual_saving'] = df_2022_2032['stakeholder_share'] * 0.20\n"
     ]
    },
    {
     "data": {
      "text/plain": [
       "array([4491.99559522, 4271.90495681, 4038.82335457, 3792.79220875,\n",
       "       3533.83545523, 3261.95932352, 2977.15208985, 2679.38380448,\n",
       "       2368.60599243, 2044.75132654])"
      ]
     },
     "execution_count": 61,
     "metadata": {},
     "output_type": "execute_result"
    }
   ],
   "source": [
    "df_2022_2032['stakeholder_share'] = df_2022_2032['profit'] * 0.25\n",
    "df_2022_2032['annual_saving'] = df_2022_2032['stakeholder_share'] * 0.20\n",
    "annual_saving = df_2022_2032['annual_saving'].values\n",
    "annual_saving"
   ]
  },
  {
   "cell_type": "code",
   "execution_count": 62,
   "metadata": {},
   "outputs": [
    {
     "data": {
      "text/plain": [
       "[6968.559512915937,\n",
       " 6311.549233786809,\n",
       " 5683.030049247229,\n",
       " 5082.704304737829,\n",
       " 4510.16903641658,\n",
       " 3964.9319449866157,\n",
       " 3446.425688011053,\n",
       " 2954.02064444036,\n",
       " 2487.036292054775,\n",
       " 2044.7513265429764]"
      ]
     },
     "execution_count": 62,
     "metadata": {},
     "output_type": "execute_result"
    }
   ],
   "source": [
    "fv_savings = []\n",
    "years = df_2022_2032['Year'].values\n",
    "for year, saving in zip(years, df_2022_2032['annual_saving'].values):\n",
    "    n = 2032 - year\n",
    "    fv = p_to_f(saving, 0.05, n)\n",
    "    fv_savings.append(fv)\n",
    "fv_savings"
   ]
  },
  {
   "cell_type": "code",
   "execution_count": 63,
   "metadata": {},
   "outputs": [
    {
     "data": {
      "text/plain": [
       "3454.7264504231252"
      ]
     },
     "execution_count": 63,
     "metadata": {},
     "output_type": "execute_result"
    }
   ],
   "source": [
    "total_fv_savings = np.sum(fv_savings)\n",
    "m = len(years)\n",
    "fixed_annual_investment = PMT(total_fv_savings, 0.05, m)\n",
    "fixed_annual_investment"
   ]
  },
  {
   "cell_type": "markdown",
   "metadata": {},
   "source": [
    "<p align=\"right\">خواسته سوم<p>"
   ]
  },
  {
   "cell_type": "code",
   "execution_count": 64,
   "metadata": {},
   "outputs": [
    {
     "name": "stdout",
     "output_type": "stream",
     "text": [
      "93586.99202452693\n"
     ]
    }
   ],
   "source": [
    "cash_flow = df_profit['profit'].tolist()\n",
    "npv = 0\n",
    "for i in range(len(cash_flow)):\n",
    "       npv=npv+ f_to_p(cash_flow[i],0.05, i+1)\n",
    "print(npv-250000)"
   ]
  }
 ],
 "metadata": {
  "kernelspec": {
   "display_name": "Python 3",
   "language": "python",
   "name": "python3"
  },
  "language_info": {
   "codemirror_mode": {
    "name": "ipython",
    "version": 3
   },
   "file_extension": ".py",
   "mimetype": "text/x-python",
   "name": "python",
   "nbconvert_exporter": "python",
   "pygments_lexer": "ipython3",
   "version": "3.10.7"
  }
 },
 "nbformat": 4,
 "nbformat_minor": 2
}
